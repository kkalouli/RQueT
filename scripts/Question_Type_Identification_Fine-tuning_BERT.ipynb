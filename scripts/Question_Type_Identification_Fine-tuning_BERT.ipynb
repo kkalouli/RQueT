{
 "cells": [
  {
   "cell_type": "markdown",
   "metadata": {
    "id": "DEfSbAA4QHas"
   },
   "source": [
    "# Fine-tuning BERT models on Question Type\n",
    "\n",
    "A version of this notebook was used to fine-tune the BERT models on the training set we make available. The fine-tuned models can be found in the GitHub repository. This notebook assumes that a GPU is available. This notebook is based on the informative tutorial by Chris McCormick and Nick Ryan. (2019, July 22). BERT Fine-Tuning Tutorial with PyTorch. Retrieved from http://www.mccormickml.com"
   ]
  },
  {
   "cell_type": "code",
   "execution_count": null,
   "metadata": {
    "colab": {
     "base_uri": "https://localhost:8080/"
    },
    "id": "tD3-T8iy8bHR",
    "outputId": "6afac902-b0f0-4518-fa51-a55cac4c7377"
   },
   "outputs": [],
   "source": [
    "# import libraries\n",
    "import tensorflow as tf\n",
    "import torch\n",
    "from torch.utils.data import TensorDataset, DataLoader, RandomSampler, SequentialSampler\n",
    "from keras.preprocessing.sequence import pad_sequences\n",
    "from sklearn.model_selection import train_test_split\n",
    "from transformers import BertModel, BertTokenizer, BertForSequenceClassification\n",
    "from transformers import AdamW\n",
    "\n",
    "from tqdm import tqdm, trange\n",
    "import pandas as pd\n",
    "import io\n",
    "import random\n",
    "import numpy as np\n",
    "\n"
   ]
  },
  {
   "cell_type": "code",
   "execution_count": null,
   "metadata": {},
   "outputs": [],
   "source": [
    "# check whether GPU ia available and choose this one\n",
    "device_name = tf.test.gpu_device_name()\n",
    "if device_name != '/device:GPU:0':\n",
    "  print('GPU device not found')\n",
    "\n",
    "device = torch.device(\"cuda\" if torch.cuda.is_available() else \"cpu\")\n",
    "n_gpu = torch.cuda.device_count()\n",
    "if torch.cuda.is_available():\n",
    "    torch.cuda.get_device_name(0)"
   ]
  },
  {
   "cell_type": "code",
   "execution_count": null,
   "metadata": {
    "id": "z7bLKfe1omgR"
   },
   "outputs": [],
   "source": [
    "# make sure that the same seed is used all over the place for better reproducibility\n",
    "seed_val = 30\n",
    "random.seed(seed_val)\n",
    "np.random.seed(seed_val)\n",
    "torch.manual_seed(seed_val)\n",
    "torch.cuda.manual_seed_all(seed_val)\n",
    "tf.random.set_seed(seed_val)"
   ]
  },
  {
   "cell_type": "markdown",
   "metadata": {},
   "source": [
    "# Fine-tuning the model"
   ]
  },
  {
   "cell_type": "code",
   "execution_count": null,
   "metadata": {
    "id": "_UkeC7SG2krJ"
   },
   "outputs": [],
   "source": [
    "# read the training set\n",
    "df_train = pd.read_csv(\"rquet_trainset.csv\", delimiter='\\t', header=0)\n",
    "df_train.sample(10)"
   ]
  },
  {
   "cell_type": "code",
   "execution_count": null,
   "metadata": {},
   "outputs": [],
   "source": [
    "# replace the golden labels with 0,1 to make ti sutiable for BERT\n",
    "df_train.replace(\"NISQ\", 0, inplace=True)\n",
    "df_train.replace(\"ISQ\", 1, inplace=True)"
   ]
  },
  {
   "cell_type": "code",
   "execution_count": null,
   "metadata": {
    "id": "XUFxhCZWUOxj"
   },
   "outputs": [],
   "source": [
    "# load tokenizer\n",
    "tokenizer = BertTokenizer.from_pretrained('bert-base-uncased', do_lower_case=True)"
   ]
  },
  {
   "cell_type": "code",
   "execution_count": null,
   "metadata": {
    "colab": {
     "base_uri": "https://localhost:8080/"
    },
    "id": "6iuBRuloSbRk",
    "outputId": "38716045-319f-47b3-e97c-066104445cde"
   },
   "outputs": [],
   "source": [
    "# just run a sample tokenization to get the max_len\n",
    "max_len = 0\n",
    "sentences_A_train = df_train.question.values\n",
    "sentences_B_train = df_train.ctx_before1.values\n",
    "sentences_C_train = df_train.ctx_after1.values\n",
    "for i in range(0,len(sentences_A_train), 1):\n",
    "    #Tokenize the text and add `[CLS]` and `[SEP]` tokens.\n",
    "    # NOTE: depending on what exactly you would like to fine-tune, adjust the following call:\n",
    "    # if you want to fine-tune only on the question itself, you only need: sentences_A_train[i]\n",
    "    # if you want to fine-tune on the question and its context-before, you need: sentences_A_train[i], sentences_B_train[i]\n",
    "    # if you want to fine-tune on the question and its context-after, you need: sentences_A_train[i], sentences_C_train[i]\n",
    "    input_ids = tokenizer.encode(sentences_A_train[i], sentences_C_train[i], \n",
    "                                 add_special_tokens=True)\n",
    "    #Update the maximum sentence length.\n",
    "    max_len = max(max_len, len(input_ids))\n",
    "\n",
    "print('Max sentence length: ', max_len)"
   ]
  },
  {
   "cell_type": "code",
   "execution_count": null,
   "metadata": {
    "colab": {
     "base_uri": "https://localhost:8080/"
    },
    "id": "w-jkDiViVgMV",
    "outputId": "645fada9-9d04-4d70-b406-fb2863f31884"
   },
   "outputs": [],
   "source": [
    "# Run proper tokenization now\n",
    "# Tokenize all of the sentences and map the tokens to their word IDs.\n",
    "input_ids_train = []\n",
    "attention_masks_train = []\n",
    "labels_train = df_train.gold_label.values\n",
    "\n",
    "for i in range(0,len(sentences_A_train), 1):\n",
    "        # NOTE: depending on what exactly you would like to fine-tune, adjust the following call:\n",
    "    # if you want to fine-tune only on the question itself, you only need: sentences_A_train[i]\n",
    "    # if you want to fine-tune on the question and its context-before, you need: sentences_A_train[i], sentences_B_train[i]\n",
    "    # if you want to fine-tune on the question and its context-after, you need: sentences_A_train[i], sentences_C_train[i]\n",
    "    encoded_dict = tokenizer.encode_plus(\n",
    "                        sentences_A_train[i], sentences_C_train[i], \n",
    "                        add_special_tokens = True,\n",
    "                        truncation = True,\n",
    "                        max_length = 128,          \n",
    "                        pad_to_max_length = True,\n",
    "                        return_attention_mask = True,\n",
    "                        return_tensors = 'pt'\n",
    "                   )\n",
    "    \n",
    "    # Add the encoded sentence to the list.    \n",
    "    input_ids_train.append(encoded_dict['input_ids'])\n",
    "    \n",
    "    # And its attention mask.\n",
    "    attention_masks_train.append(encoded_dict['attention_mask'])\n",
    "\n",
    "# Convert the lists into tensors.\n",
    "input_ids_train = torch.cat(input_ids_train, dim=0)\n",
    "attention_masks_train = torch.cat(attention_masks_train, dim=0)\n",
    "labels_train = torch.tensor(labels_train)\n",
    "\n",
    "# Print sentence 0, now as a list of IDs.\n",
    "print('Original: ', sentences_A_train[0])\n",
    "print('Token IDs:', input_ids_train[0])"
   ]
  },
  {
   "cell_type": "code",
   "execution_count": null,
   "metadata": {
    "colab": {
     "base_uri": "https://localhost:8080/"
    },
    "id": "OF9xQ7kFfgD4",
    "outputId": "e419ab63-5310-43f5-f271-851c52a87a54"
   },
   "outputs": [],
   "source": [
    "from torch.utils.data import TensorDataset, random_split\n",
    "\n",
    "# Combine the training inputs into a TensorDataset.\n",
    "dataset = TensorDataset(input_ids_train, attention_masks_train, labels_train)\n",
    "\n",
    "# Create a 90-10 train-validation split.\n",
    "\n",
    "# Calculate the number of samples to include in each set.\n",
    "train_size = int(0.9 * len(dataset))\n",
    "val_size = len(dataset) - train_size\n",
    "\n",
    "# Divide the dataset by randomly selecting samples.\n",
    "train_dataset, val_dataset = random_split(dataset, [train_size, val_size])\n",
    "\n",
    "print('{:>5,} training samples'.format(train_size))\n",
    "print('{:>5,} validation samples'.format(val_size))"
   ]
  },
  {
   "cell_type": "code",
   "execution_count": null,
   "metadata": {
    "id": "cp636LS7a3CX"
   },
   "outputs": [],
   "source": [
    "batch_size = 32\n",
    "\n",
    "# Create the DataLoaders for our training and validation sets.\n",
    "# We'll take training samples in random order. \n",
    "train_dataloader = DataLoader(\n",
    "            train_dataset,\n",
    "            sampler = RandomSampler(train_dataset), \n",
    "            batch_size = batch_size\n",
    "        )\n",
    "\n",
    "# For validation the order doesn't matter, so we'll just read them sequentially.\n",
    "validation_dataloader = DataLoader(\n",
    "            val_dataset,\n",
    "            sampler = SequentialSampler(val_dataset),\n",
    "            batch_size = batch_size\n",
    "        )"
   ]
  },
  {
   "cell_type": "code",
   "execution_count": null,
   "metadata": {
    "colab": {
     "base_uri": "https://localhost:8080/"
    },
    "id": "fs1WINQta3HJ",
    "outputId": "d47a9bfe-2489-44d7-b7d4-b9e3a753ccb7"
   },
   "outputs": [],
   "source": [
    "# Load BERT\n",
    "model = BertForSequenceClassification.from_pretrained(\n",
    "    \"bert-base-uncased\", \n",
    "    num_labels = 2,  \n",
    "    output_attentions = False,\n",
    "    output_hidden_states = True\n",
    ")\n",
    "\n",
    "# load cuda if GPU is available\n",
    "if torch.cuda.is_available():\n",
    "    model.cuda()"
   ]
  },
  {
   "cell_type": "code",
   "execution_count": null,
   "metadata": {
    "id": "sQQYaNvMb1Ua"
   },
   "outputs": [],
   "source": [
    "# Function to calculate the accuracy of our predictions vs labels\n",
    "def flat_accuracy(preds, labels):\n",
    "    pred_flat = np.argmax(preds, axis=1).flatten()\n",
    "    labels_flat = labels.flatten()\n",
    "    return np.sum(pred_flat == labels_flat) / len(labels_flat)"
   ]
  },
  {
   "cell_type": "code",
   "execution_count": null,
   "metadata": {
    "id": "o6jd6X_Zc_Mh"
   },
   "outputs": [],
   "source": [
    "import time\n",
    "import datetime\n",
    "\n",
    "def format_time(elapsed):\n",
    "    '''\n",
    "    Takes a time in seconds and returns a string hh:mm:ss\n",
    "    '''\n",
    "    # Round to the nearest second.\n",
    "    elapsed_rounded = int(round((elapsed)))\n",
    "    \n",
    "    # Format as hh:mm:ss\n",
    "    return str(datetime.timedelta(seconds=elapsed_rounded))\n"
   ]
  },
  {
   "cell_type": "code",
   "execution_count": null,
   "metadata": {
    "id": "8Pz0u2srggT8"
   },
   "outputs": [],
   "source": [
    "# function to run the actual training/fine-tuning of the model\n",
    "def run_train_and_val(epochs):\n",
    "  training_stats = []\n",
    "\n",
    "  # Measure the total training time for the whole run.\n",
    "  total_t0 = time.time()\n",
    "\n",
    "\n",
    "  for epoch_i in range(0, epochs):\n",
    "    \n",
    "    # ========================================\n",
    "    #               Training\n",
    "    # ========================================\n",
    "    \n",
    "      # Perform one full pass over the training set.\n",
    "\n",
    "      print(\"\")\n",
    "      print('\\n======== Epoch {:} / {:} ========'.format(epoch_i + 1, epochs))\n",
    "      print('\\nTraining...')\n",
    "\n",
    "      # Measure how long the training epoch takes.\n",
    "      t0 = time.time()\n",
    "\n",
    "      # Reset the total loss for this epoch.\n",
    "      total_train_loss = 0\n",
    "\n",
    "      # Put the model into training mode. \n",
    "      model.train()\n",
    "\n",
    "      # For each batch of training data...\n",
    "      for step, batch in enumerate(train_dataloader):\n",
    "          # Progress update every 40 batches.\n",
    "          if step % 40 == 0 and not step == 0:\n",
    "              # Calculate elapsed time in minutes.\n",
    "              elapsed = format_time(time.time() - t0)      \n",
    "              print('\\nBatch {:>5,}  of  {:>5,}.    Elapsed: {:}.'.format(step, len(train_dataloader), elapsed))\n",
    "\n",
    "        # Unpack this training batch from our dataloader. \n",
    "        #\n",
    "        # As we unpack the batch, we'll also copy each tensor to the GPU using the \n",
    "        # `to` method.\n",
    "        #\n",
    "        # `batch` contains three pytorch tensors:\n",
    "        #   [0]: input ids \n",
    "        #   [1]: attention masks\n",
    "        #   [2]: labels \n",
    "          b_input_ids = batch[0].to(device)\n",
    "          b_input_mask = batch[1].to(device)\n",
    "          b_labels = batch[2].to(device)\n",
    "\n",
    "          # Clear any previously calculated gradients before performing a\n",
    "          # backward pass.\n",
    "          model.zero_grad()        \n",
    "\n",
    "          # Perform a forward pass (evaluate the model on this training batch).\n",
    "          outputs = model(b_input_ids, \n",
    "                             token_type_ids=None, \n",
    "                             attention_mask=b_input_mask, \n",
    "                             labels=b_labels )\n",
    "      \n",
    "          loss = outputs[0]\n",
    "          logits = outputs[1]\n",
    "          # Accumulate the training loss over all of the batches so that we can\n",
    "          # calculate the average loss at the end. \n",
    "          total_train_loss += loss.item()\n",
    "\n",
    "          # Perform a backward pass to calculate the gradients.\n",
    "          loss.backward()\n",
    "\n",
    "          # Clip the norm of the gradients to 1.0.\n",
    "          # This is to help prevent the \"exploding gradients\" problem.\n",
    "          torch.nn.utils.clip_grad_norm_(model.parameters(), 1.0)\n",
    "\n",
    "          # Update parameters and take a step using the computed gradient.\n",
    "          # The optimizer dictates the \"update rule\"--how the parameters are\n",
    "          # modified based on their gradients, the learning rate, etc.\n",
    "          optimizer.step()\n",
    "\n",
    "          # Update the learning rate.\n",
    "          scheduler.step()\n",
    "\n",
    "      # Calculate the average loss over all of the batches.\n",
    "      avg_train_loss = total_train_loss / len(train_dataloader)            \n",
    "    \n",
    "      # Measure how long this epoch took.\n",
    "      training_time = format_time(time.time() - t0)\n",
    "\n",
    "      print(\"\\n\")\n",
    "      print(\"\\nAverage training loss: {0:.2f}\".format(avg_train_loss))\n",
    "      print(\"\\nTraining epcoh took: {:}\".format(training_time))\n",
    "        \n",
    "    # ========================================\n",
    "    #               Validation\n",
    "    # ========================================\n",
    "    # After the completion of each training epoch, measure our performance on\n",
    "    # our validation set.\n",
    "\n",
    "      print(\"\\n\")\n",
    "      print(\"\\nRunning Validation...\")\n",
    "\n",
    "      t0 = time.time()\n",
    "\n",
    "      # Put the model in evaluation mode--the dropout layers behave differently\n",
    "      # during evaluation.\n",
    "      model.eval()\n",
    "\n",
    "      # Tracking variables \n",
    "      total_eval_accuracy = 0\n",
    "      total_eval_loss = 0\n",
    "      nb_eval_steps = 0\n",
    "\n",
    "      # Evaluate data for one epoch\n",
    "      for batch in validation_dataloader:\n",
    "        \n",
    "        # Unpack this training batch from our dataloader. \n",
    "        #\n",
    "        # As we unpack the batch, we'll also copy each tensor to the GPU using \n",
    "        # the `to` method.\n",
    "        #\n",
    "        # `batch` contains three pytorch tensors:\n",
    "        #   [0]: input ids \n",
    "        #   [1]: attention masks\n",
    "        #   [2]: labels \n",
    "          b_input_ids = batch[0].to(device)\n",
    "          b_input_mask = batch[1].to(device)\n",
    "          b_labels = batch[2].to(device)\n",
    "        \n",
    "          # Tell pytorch not to bother with constructing the compute graph during\n",
    "          # the forward pass, since this is only needed for backprop (training).\n",
    "          with torch.no_grad():        \n",
    "\n",
    "              # Forward pass, calculate logit predictions.\n",
    "              outputs = model(b_input_ids, \n",
    "                                   token_type_ids=None, \n",
    "                                   attention_mask=b_input_mask,\n",
    "                                   labels=b_labels )\n",
    "            \n",
    "              loss = outputs[0]\n",
    "              logits = outputs[1]\n",
    "            \n",
    "          # Accumulate the validation loss.\n",
    "          total_eval_loss += loss.item()\n",
    "\n",
    "          # Move logits and labels to CPU\n",
    "          logits = logits.detach().cpu().numpy()\n",
    "          label_ids = b_labels.to('cpu').numpy()\n",
    "\n",
    "          # Calculate the accuracy for this batch of test sentences, and\n",
    "          # accumulate it over all batches.\n",
    "          total_eval_accuracy += flat_accuracy(logits, label_ids)\n",
    "        \n",
    "\n",
    "      # Report the final accuracy for this validation run.\n",
    "      avg_val_accuracy = total_eval_accuracy / len(validation_dataloader)\n",
    "      print(\"\\nAccuracy: {0:.2f}\".format(avg_val_accuracy))\n",
    "\n",
    "      # Calculate the average loss over all of the batches.\n",
    "      avg_val_loss = total_eval_loss / len(validation_dataloader)\n",
    "    \n",
    "      # Measure how long the validation run took.\n",
    "      validation_time = format_time(time.time() - t0)\n",
    "    \n",
    "      print(\"\\nValidation Loss: {0:.2f}\".format(avg_val_loss))\n",
    "      print(\"\\nValidation took: {:}\".format(validation_time))\n",
    "\n",
    "      # Record all statistics from this epoch.\n",
    "      training_stats.append(\n",
    "          {\n",
    "            'epoch': epoch_i + 1,\n",
    "            'Training Loss': avg_train_loss,\n",
    "            'Valid. Loss': avg_val_loss,\n",
    "            'Valid. Accur.': avg_val_accuracy,\n",
    "            'Training Time': training_time,\n",
    "            'Validation Time': validation_time\n",
    "          }\n",
    "      )\n",
    "\n",
    "  print(\"\\n\")\n",
    "  print(\"\\nTraining complete!\")\n",
    "  print(\"\\nTotal training took {:} (h:mm:ss)\".format(format_time(time.time()-total_t0)))\n",
    "  print(\"\\n\")\n",
    "  print(\"\\nTraining complete!\")\n",
    "  print(\"\\nTotal training took {:} (h:mm:ss)\".format(format_time(time.time()-total_t0)))\n",
    "\n"
   ]
  },
  {
   "cell_type": "code",
   "execution_count": null,
   "metadata": {
    "colab": {
     "base_uri": "https://localhost:8080/"
    },
    "id": "txRBBud7w7ht",
    "outputId": "87ff7597-4cf4-4c16-a228-01a5c8ac1e24"
   },
   "outputs": [],
   "source": [
    "from transformers import get_linear_schedule_with_warmup\n",
    "\n",
    "optimizer = AdamW(model.parameters(), lr = 2e-5, eps = 1e-8)\n",
    "epochs = 2\n",
    "total_steps = len(train_dataloader) * epochs\n",
    "# Create the learning rate scheduler.\n",
    "scheduler = get_linear_schedule_with_warmup(optimizer, num_warmup_steps = 0, num_training_steps = total_steps)\n",
    "run_train_and_val(epochs)\n"
   ]
  },
  {
   "cell_type": "markdown",
   "metadata": {},
   "source": [
    "# Evaluating the model"
   ]
  },
  {
   "cell_type": "code",
   "execution_count": null,
   "metadata": {
    "colab": {
     "base_uri": "https://localhost:8080/"
    },
    "id": "txsE-hz1cjtQ",
    "outputId": "e3132311-70d4-4c5a-ccec-db2e54967305"
   },
   "outputs": [],
   "source": [
    "# Run model ON TEST set\n",
    "# Load the dataset into a pandas dataframe.\n",
    "df_test = pd.read_csv(\"rquet_testset.csv\", delimiter='\\t', header=0)\n",
    "\n",
    "# Report the number of sentences.\n",
    "print('Number of test sentences: {:,}\\n'.format(df_test.shape[0]))\n",
    "\n",
    "# replace the golden labels with 0,1 to make ti sutiable for BERT\n",
    "df_test.replace(\"NISQ\", 0, inplace=True)\n",
    "df_test.replace(\"ISQ\", 1, inplace=True)\n",
    "\n",
    "# Create sentence and label lists\n",
    "sentences_A_test = df_test.question.values\n",
    "sentences_B_test = df_test.ctx_before1.values\n",
    "sentences_C_test = df_test.ctx_after1.values\n",
    "labels_test = df_test.gold_label.values\n",
    "\n",
    "# Tokenize all of the sentences and map the tokens to thier word IDs.\n",
    "input_ids_test = []\n",
    "attention_masks_test = []\n",
    "\n",
    "for i in range(0,len(sentences_A_test)):\n",
    "    # NOTE: depending on what exactly you would like to evaluate, adjust the following call:\n",
    "    # if you want to fine-tune only on the question itself, you only need: sentences_A_train[i]\n",
    "    # if you want to fine-tune on the question and its context-before, you need: sentences_A_train[i], sentences_B_train[i]\n",
    "    # if you want to fine-tune on the question and its context-after, you need: sentences_A_train[i], sentences_C_train[i]\n",
    "    encoded_dict = tokenizer.encode_plus(\n",
    "                        sentences_A_test[i], sentences_C_test[i],\n",
    "                        add_special_tokens = True,\n",
    "                        max_length = 128,         \n",
    "                        pad_to_max_length = True,\n",
    "                        return_attention_mask = True,   \n",
    "                        return_tensors = 'pt', \n",
    "                   )\n",
    "    \n",
    "    # Add the encoded sentence to the list.    \n",
    "    input_ids_test.append(encoded_dict['input_ids'])\n",
    "    \n",
    "    # And its attention mask (simply differentiates padding from non-padding).\n",
    "    attention_masks_test.append(encoded_dict['attention_mask'])\n",
    "\n",
    "# Convert the lists into tensors.\n",
    "input_ids_test = torch.cat(input_ids_test, dim=0)\n",
    "attention_masks_test = torch.cat(attention_masks_test, dim=0)\n",
    "labels_test = torch.tensor(labels_test)\n",
    "\n",
    "# Set the batch size.  \n",
    "batch_size = 32  \n",
    "\n",
    "# Create the DataLoader.\n",
    "prediction_data = TensorDataset(input_ids_test, attention_masks_test, labels_test)\n",
    "prediction_sampler = SequentialSampler(prediction_data)\n",
    "prediction_dataloader = DataLoader(prediction_data, sampler=prediction_sampler, batch_size=batch_size)"
   ]
  },
  {
   "cell_type": "code",
   "execution_count": null,
   "metadata": {
    "colab": {
     "base_uri": "https://localhost:8080/"
    },
    "id": "6dMyrMiYcjvq",
    "outputId": "f86fbfb9-206d-40de-e024-67b078197f59"
   },
   "outputs": [],
   "source": [
    "# Prediction on test set\n",
    "\n",
    "print('Predicting labels for {:,} test sentences...'.format(len(input_ids_test)))\n",
    "\n",
    "# Put model in evaluation mode\n",
    "model.eval()\n",
    "\n",
    "# Tracking variables \n",
    "total_test_accuracy = 0\n",
    "nb_test_steps = 0\n",
    "\n",
    "# Tracking variables \n",
    "predictions , true_labels, all_embeds = [], [], []\n",
    "\n",
    "# Predict \n",
    "for batch in prediction_dataloader:\n",
    "  # Add batch to GPU\n",
    "  batch = tuple(t.to(device) for t in batch)\n",
    "  \n",
    "  # Unpack the inputs from our dataloader\n",
    "  b_input_ids, b_input_mask, b_labels = batch\n",
    "  \n",
    "  # Telling the model not to compute or store gradients, saving memory and \n",
    "  # speeding up prediction\n",
    "  with torch.no_grad():\n",
    "      # Forward pass, calculate logit predictions\n",
    "      outputs = model(b_input_ids, token_type_ids=None, \n",
    "                      attention_mask=b_input_mask)\n",
    "\n",
    "  logits = outputs[0]\n",
    "  hidden_states = outputs[1]\n",
    "\n",
    "  # Move logits and labels to CPU\n",
    "  logits = logits.detach().cpu().numpy()\n",
    "  label_ids = b_labels.to('cpu').numpy()\n",
    "\n",
    "  i = 0\n",
    "  # go through each sentence at the second from last layer:\n",
    "  while i < len(hidden_states[-2]):\n",
    "    # following code to get the sentence embedding from the CLS (first token of each sentence) of the 11th layer\n",
    "    sentence_embedding = hidden_states[-2][i][0]\n",
    "     # following code to get the sentence embedding as the average of all tokens\n",
    "    # get the tokens of each sentence\n",
    "    #token_vecs = hidden_states[-2][i]\n",
    "    #print (token_vecs.shape)\n",
    "    # average those tokens to get an average sentence embedding\n",
    "    #sentence_embedding = torch.mean(token_vecs, dim=0)\n",
    "    #print (sentence_embedding.shape)\n",
    "    # add the embeding to the list of snetence embeddings \n",
    "    all_embeds.append(sentence_embedding)\n",
    "    i += 1\n",
    "  \n",
    "  # Store predictions and true labels\n",
    "  predictions.append(logits)\n",
    "  true_labels.append(label_ids)\n",
    "\n",
    "  tmp_test_accuracy = flat_accuracy(logits, label_ids)\n",
    "    \n",
    "  total_test_accuracy += tmp_test_accuracy\n",
    "  nb_test_steps += 1\n",
    "\n",
    "\n",
    "print('    DONE.')\n",
    "print(\"Test Accuracy: {}\".format(total_test_accuracy/nb_test_steps))"
   ]
  },
  {
   "cell_type": "code",
   "execution_count": null,
   "metadata": {
    "colab": {
     "base_uri": "https://localhost:8080/",
     "height": 456
    },
    "id": "dbx0wWVd8Y7t",
    "outputId": "ab072aea-8c91-4a75-eac3-4f0b9453cf7c"
   },
   "outputs": [],
   "source": [
    "# Flatten the predictions and true values\n",
    "flat_predictions = [item for sublist in predictions for item in sublist]\n",
    "flat_predictions = np.argmax(flat_predictions, axis=1).flatten()\n",
    "flat_true_labels = [item for sublist in true_labels for item in sublist]\n",
    "\n",
    "# get ids of predictions and \n",
    "ids = df_test.ID.values\n",
    "\n",
    "i = 0\n",
    "# create new Dataframe to hold the fine-tuned embeds\n",
    "df_embeds = pd.DataFrame()\n",
    "\n",
    "# add each prediction to the new dataframe\n",
    "for pred in all_embeds:\n",
    "  # convert tensor to numpy array\n",
    "  numpy_pred = pred.cpu().numpy()\n",
    "  reshaped_numpy = np.reshape(numpy_pred, (1,768))\n",
    "  numpy_df = pd.DataFrame(reshaped_numpy)\n",
    "  # append\n",
    "  df_embeds = df_embeds.append(numpy_df,ignore_index=True)\n",
    "  #print (df_embeds)  \n",
    "  i +=1\n",
    "\n",
    "  \n",
    "print (i)\n",
    "# insert the ids at the front\n",
    "df_embeds.insert(0,\"ID\",ids)\n",
    "df_embeds"
   ]
  },
  {
   "cell_type": "code",
   "execution_count": null,
   "metadata": {
    "id": "49xsZAdc8uvH"
   },
   "outputs": [],
   "source": [
    "# write dataframe to csv file\n",
    "df_embeds.to_csv(\"fine-tuned_bert_embeds_on_queAndCtxAfter_testset.csv\")"
   ]
  },
  {
   "cell_type": "code",
   "execution_count": null,
   "metadata": {
    "colab": {
     "base_uri": "https://localhost:8080/"
    },
    "id": "OcPCjF9_KKyj",
    "outputId": "ed1b7332-6022-4634-a459-86c80abaeee7"
   },
   "outputs": [],
   "source": [
    "# Save model if necessary\n",
    "model_save_name = 'que_contextAfter_fine-tuned_bert.pt'\n",
    "torch.save(model.state_dict(), model_save_name)"
   ]
  }
 ],
 "metadata": {
  "accelerator": "GPU",
  "colab": {
   "collapsed_sections": [],
   "name": "Question Identification Task - Training BERT.ipynb",
   "provenance": []
  },
  "kernelspec": {
   "display_name": "Python 3",
   "language": "python",
   "name": "python3"
  },
  "language_info": {
   "codemirror_mode": {
    "name": "ipython",
    "version": 3
   },
   "file_extension": ".py",
   "mimetype": "text/x-python",
   "name": "python",
   "nbconvert_exporter": "python",
   "pygments_lexer": "ipython3",
   "version": "3.7.3"
  }
 },
 "nbformat": 4,
 "nbformat_minor": 1
}
